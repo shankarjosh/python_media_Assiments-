{
 "cells": [
  {
   "cell_type": "code",
   "execution_count": 10,
   "id": "49ebfa4f-5b2e-4be5-81ac-ce21d3c9e6f4",
   "metadata": {},
   "outputs": [
    {
     "name": "stdout",
     "output_type": "stream",
     "text": [
      " B is greater than A\n"
     ]
    }
   ],
   "source": [
    "\n",
    "\n",
    "# the significance of Python keywords and provide examples of five keywords\n",
    "\n",
    "#python keyword if\n",
    "\n",
    "A=5\n",
    "B=6\n",
    "if A<B:\n",
    "    print(\" B is greater than A\")\n",
    "    \n"
   ]
  },
  {
   "cell_type": "code",
   "execution_count": 12,
   "id": "db5d08de-57f0-40f9-9c81-765e159fac75",
   "metadata": {},
   "outputs": [
    {
     "name": "stdout",
     "output_type": "stream",
     "text": [
      "2\n",
      "4\n",
      "5\n",
      "6\n",
      "7\n",
      "Code is executed\n"
     ]
    }
   ],
   "source": [
    "\n",
    "# python keyword continue \n",
    "\n",
    "n = 7\n",
    "i = 1\n",
    "\n",
    "while i < n:\n",
    "    i = i + 1\n",
    "    if i == 3:\n",
    "        continue\n",
    "    print(i)\n",
    "else:\n",
    "    print(\"Code is executed\")"
   ]
  },
  {
   "cell_type": "code",
   "execution_count": 17,
   "id": "13a42d02-ffe6-4225-ba88-504ee36f60a5",
   "metadata": {},
   "outputs": [
    {
     "name": "stdout",
     "output_type": "stream",
     "text": [
      "b is greater than or equal to  a\n"
     ]
    }
   ],
   "source": [
    "#python keyword else\n",
    "\n",
    "a=10\n",
    "b=10\n",
    "\n",
    "if a<b:\n",
    "       print(\" a is smaller than b\")\n",
    "else:\n",
    "    print(\"b is greater than or equal to  a\")"
   ]
  },
  {
   "cell_type": "code",
   "execution_count": 24,
   "id": "f2e30978-207b-4eb9-a0e9-87af9c58cb69",
   "metadata": {},
   "outputs": [
    {
     "name": "stdout",
     "output_type": "stream",
     "text": [
      "1\n",
      "2\n"
     ]
    }
   ],
   "source": [
    "\n",
    "\n",
    "\n",
    "#python keyword break\n",
    "\n",
    "a=5\n",
    "i=0\n",
    "while i<5:\n",
    "    i=i+1\n",
    "    if i==3:\n",
    "        break\n",
    "    print(i)"
   ]
  },
  {
   "cell_type": "code",
   "execution_count": 25,
   "id": "3df967c6-6525-4c47-af33-44bb23b380f8",
   "metadata": {},
   "outputs": [
    {
     "name": "stdout",
     "output_type": "stream",
     "text": [
      "1\n",
      "2\n",
      "3\n",
      "4\n",
      "5\n"
     ]
    }
   ],
   "source": [
    "#python keyword for \n",
    "a=1,2,3,4,5\n",
    "for num in a:\n",
    "    print(num)\n",
    "\n"
   ]
  },
  {
   "cell_type": "code",
   "execution_count": null,
   "id": "0264316a-c0c4-47f1-9d26-6e48f2133efa",
   "metadata": {},
   "outputs": [],
   "source": []
  },
  {
   "cell_type": "code",
   "execution_count": 29,
   "id": "03b4bece-1ba8-4dcd-bcb6-bec66e0201a1",
   "metadata": {},
   "outputs": [
    {
     "data": {
      "text/plain": [
       "'my_variable = 10\\nMyVariable = 20\\nmy_variable2 = 30\\n_my_variable = 40\\nmyVariable = 50\\n\\n# Invalid identifiers\\n2variable = 10  # Cannot start with a digit\\nmy-variable = 20  # Hyphens are not allowed\\nfor = 30  # Cannot use reserved words as identifiers\\n#In this example, my_variable, MyVariable, my_variable2, _my_variable, and myVariable are valid identifiers, while 2variable, my-variable, and for are invalid identifiers due to violating the rules mentioned above.'"
      ]
     },
     "execution_count": 29,
     "metadata": {},
     "output_type": "execute_result"
    }
   ],
   "source": [
    "#Descri0e the rules for defining identifiers in Python and provide an example\n",
    "\n",
    "\n",
    "#Valid Characters:   Identifiers can consist of uppercase and lowercase letters (A-Z, a-z), digits (0-9), and underscores (_). They cannot start with a digit.\n",
    "\n",
    "#Case Sensitivity:    Python is case-sensitive, so uppercase and lowercase letters are considered different. For example, myVar and myvar are considered different identifiers.\n",
    "\n",
    "#Reserved Words:      Identifiers cannot be a reserved word (also known as keywords) in Python. These reserved words are used for specific purposes and cannot be used as identifiers. Examples of reserved words include if, else, while, for, def, class, etc.\n",
    "\n",
    "#Length:              There is no limit on the length of identifiers in Python, but it's recommended to keep them concise and meaningful.\n",
    "\n",
    "#Underscore Usage:    Identifiers can start or contain underscores, but names starting with a single underscore are treated specially in Python. Conventionally, identifiers starting with a single underscore are meant to be private, while names starting and ending with double underscores have special meanings in Python classes (called dunder methods).\n",
    "\n",
    "#Here's an example demonstrating valid and invalid identifiers:\n",
    "\n",
    "\n",
    "\n",
    "# Valid identifiers\n",
    "'''my_variable = 10\n",
    "MyVariable = 20\n",
    "my_variable2 = 30\n",
    "_my_variable = 40\n",
    "myVariable = 50\n",
    "\n",
    "# Invalid identifiers\n",
    "2variable = 10  # Cannot start with a digit\n",
    "my-variable = 20  # Hyphens are not allowed\n",
    "for = 30  # Cannot use reserved words as identifiers\n",
    "#In this example, my_variable, MyVariable, my_variable2, _my_variable, and myVariable are valid identifiers, while 2variable, my-variable, and for are invalid identifiers due to violating the rules mentioned above.'''\n",
    "\n"
   ]
  },
  {
   "cell_type": "code",
   "execution_count": null,
   "id": "987d8a3a-fc4f-4f41-9514-0f5b5ec950df",
   "metadata": {},
   "outputs": [],
   "source": []
  },
  {
   "cell_type": "code",
   "execution_count": 27,
   "id": "ebdbd90d-9e42-454a-9564-373d8738352a",
   "metadata": {},
   "outputs": [],
   "source": [
    "#  What are comments in Python, and why are they useful6 Provide an example\n",
    "\n",
    "\n",
    "#There are two types of comments in Python:\n",
    "\n",
    "#Single-line comments: These comments begin with the # symbol and continue until the end of the line. They are typically used for short annotations or explanations on a single line.\n",
    "\n",
    "#Multi-line comments (docstrings): These comments span multiple lines and are enclosed within triple quotes (\"\"\" \"\"\" or ''' '''). They are often used for longer comments, function or class documentation (docstrings), and for writing multi-line comments.\n",
    "\n",
    "#Here's an example demonstrating both types of comments:\n",
    "\n",
    "\n",
    "# This is a single-line comment\n",
    "\n",
    "\n",
    "\"\"\"\n",
    "This is a multi-line comment.\n",
    "It spans multiple lines and can provide\n",
    "detailed explanations or documentation.\n",
    "\"\"\"\n",
    "\n",
    "\n",
    "\n",
    "   "
   ]
  },
  {
   "cell_type": "code",
   "execution_count": null,
   "id": "201433c4-c2c0-4b3b-a0e2-0a8965939d9b",
   "metadata": {},
   "outputs": [],
   "source": []
  },
  {
   "cell_type": "code",
   "execution_count": null,
   "id": "3b8d9949-8661-4d30-b12e-ce11b3031162",
   "metadata": {},
   "outputs": [],
   "source": [
    "#  Why is proper indentation important in Python\n",
    "\n",
    "'''Here are the main reasons why proper indentation is important in Python:\n",
    "\n",
    "Readability:          Proper indentation makes the code more readable and understandable. It visually separates different blocks of code and helps developers quickly grasp the structure of the program.\n",
    "\n",
    "Syntax:                In Python, indentation is not just a convention; it's a part of the language syntax. Incorrect indentation can lead to syntax errors, causing the code to fail during execution.\n",
    "\n",
    "Logic and Flow Control: Indentation helps to define the logical flow of the program. It clarifies which statements are part of a loop, conditional, or function. Incorrect indentation can alter the logic of the code, leading to unexpected behavior.\n",
    "\n",
    "Debugging:             Properly indented code is easier to debug. When encountering an error, developers can quickly identify which block of code is causing the problem and trace the issue more efficiently.\n",
    "\n",
    "Maintainability:      Well-indented code is easier to maintain and modify. When adding new features or making changes to existing code, developers can quickly understand how different parts of the code are organized and interconnected.\n",
    "\n",
    "Overall, proper indentation is a fundamental aspect of writing clean, maintainable, and error-free Python code. It's not just a matter of style but a requirement for ensuring the code's correctness and readability.'''\n",
    "\n"
   ]
  },
  {
   "cell_type": "code",
   "execution_count": null,
   "id": "d3395de0-a04e-4f97-b6d8-9ebe7a42a213",
   "metadata": {},
   "outputs": [],
   "source": []
  },
  {
   "cell_type": "code",
   "execution_count": 30,
   "id": "6346f8fc-976a-47e3-88ff-6a830d5bec20",
   "metadata": {},
   "outputs": [
    {
     "data": {
      "text/plain": [
       "\"If the indentation is incorrect in Python, it can lead to several issues, including syntax errors, logical errors, and unexpected behavior. Here's what can happen when indentation is incorrect:\\n\\nSyntax Errors:     Python relies on proper indentation to determine the structure of the code. If the indentation is incorrect, Python will raise a syntax error indicating that the code is not properly formatted. These errors typically occur when the indentation level does not match the expected structure, such as mixing tabs and spaces or inconsistent indentation within the same block of code.\\n\\nLogical Errors:    Incorrect indentation can change the logical flow of the code, leading to unintended behavior. For example, if statements, loops, or function definitions may not be executed as expected due to incorrect indentation. This can result in logical errors where the code behaves differently from what was intended by the programmer.\\n\\nUnreachable Code:  Incorrect indentation can cause certain blocks of code to become unreachable or to execute in unexpected contexts. This can lead to parts of the code being skipped or executed multiple times, depending on how the indentation is interpreted by Python.\\n\\nMisinterpretation of Scope: Incorrect indentation can cause Python to misinterpret the scope of variables, functions, or classes. This can lead to issues such as variable shadowing, where a variable in an inner scope unintentionally hides a variable in an outer scope, or unintended access to variables defined in different scopes.\\n\\nOverall, incorrect indentation in Python can result in syntax errors, logical errors, and unexpected behavior that may be difficult to identify and debug. Therefore, it's essential to pay close attention to indentation and ensure that the code is properly formatted according to Python's indentation rules.\""
      ]
     },
     "execution_count": 30,
     "metadata": {},
     "output_type": "execute_result"
    }
   ],
   "source": [
    "#   What happens if indentation is incorrect in Python\n",
    "\n",
    "\n",
    "'''If the indentation is incorrect in Python, it can lead to several issues, including syntax errors, logical errors, and unexpected behavior. Here's what can happen when indentation is incorrect:\n",
    "\n",
    "Syntax Errors:     Python relies on proper indentation to determine the structure of the code. If the indentation is incorrect, Python will raise a syntax error indicating that the code is not properly formatted. These errors typically occur when the indentation level does not match the expected structure, such as mixing tabs and spaces or inconsistent indentation within the same block of code.\n",
    "\n",
    "Logical Errors:    Incorrect indentation can change the logical flow of the code, leading to unintended behavior. For example, if statements, loops, or function definitions may not be executed as expected due to incorrect indentation. This can result in logical errors where the code behaves differently from what was intended by the programmer.\n",
    "\n",
    "Unreachable Code:  Incorrect indentation can cause certain blocks of code to become unreachable or to execute in unexpected contexts. This can lead to parts of the code being skipped or executed multiple times, depending on how the indentation is interpreted by Python.\n",
    "\n",
    "Misinterpretation of Scope: Incorrect indentation can cause Python to misinterpret the scope of variables, functions, or classes. This can lead to issues such as variable shadowing, where a variable in an inner scope unintentionally hides a variable in an outer scope, or unintended access to variables defined in different scopes.\n",
    "\n",
    "Overall, incorrect indentation in Python can result in syntax errors, logical errors, and unexpected behavior that may be difficult to identify and debug. Therefore, it's essential to pay close attention to indentation and ensure that the code is properly formatted according to Python's indentation rules.'''"
   ]
  },
  {
   "cell_type": "code",
   "execution_count": null,
   "id": "df7cb0c4-356a-41a6-ae92-0bee2cd9f8c4",
   "metadata": {},
   "outputs": [],
   "source": []
  },
  {
   "cell_type": "code",
   "execution_count": 54,
   "id": "e7ed72a1-11b7-4934-b378-043d2b409025",
   "metadata": {},
   "outputs": [
    {
     "name": "stdout",
     "output_type": "stream",
     "text": [
      "8\n"
     ]
    }
   ],
   "source": [
    "#  Differentiate 0etween expression and statement in Python with examples\n",
    "\n",
    "\n",
    "#In Python, expressions and statements are both fundamental building blocks of code, but they serve different purposes and have distinct characteristics.\n",
    "\n",
    "'''1. **Expression**:\n",
    "   - An expression is any piece of code that evaluates to a value.\n",
    "   - It can be a combination of variables, operators, and function calls that result in a single value.\n",
    "   - Expressions can be simple, like `5 + 3`, or complex, involving function calls and nested expressions.\n",
    "   - Examples of expressions:\n",
    "     ```python'''\n",
    "a = 5\n",
    "b = 3\n",
    "sum = a + b  # This is an expression that evaluates to 8       \n",
    "print(sum)\n",
    "        \n",
    "     \n"
   ]
  },
  {
   "cell_type": "code",
   "execution_count": null,
   "id": "309008dc-8a00-4a20-9390-9324196d5cd6",
   "metadata": {},
   "outputs": [],
   "source": [
    "'''2. **Statement**:\n",
    " A statement is a complete unit of execution that typically performs an action or control the flow of execution.\n",
    "   - It can consist of one or more expressions and usually ends with a newline character or a semicolon (;).\n",
    "   - Examples of statements include variable assignments, function calls, conditional statements, loops, etc.\n",
    "   - Statements can contain expressions, but not all expressions are statements.\n",
    "   - Examples of statements:''' \n",
    "    \n",
    "a = 5  # Assignment statement\n",
    " # print(\"Hello, world!\")  # Print statement\n",
    "    \n",
    "if  a > 0:  # If statement\n",
    "print(\"a is positive\")  # This is a statement inside the if block\n",
    "     \n",
    "\n",
    "\n",
    "#In summary, the main difference between expressions and statements in Python is that expressions evaluate to a value, while statements perform an action or control the flow of execution. Expressions can be part of statements, but not all statements are expressions."
   ]
  },
  {
   "cell_type": "code",
   "execution_count": null,
   "id": "922ed2ac-b223-48ba-b2b8-88de3c9de3b1",
   "metadata": {},
   "outputs": [],
   "source": []
  }
 ],
 "metadata": {
  "kernelspec": {
   "display_name": "Python 3 (ipykernel)",
   "language": "python",
   "name": "python3"
  },
  "language_info": {
   "codemirror_mode": {
    "name": "ipython",
    "version": 3
   },
   "file_extension": ".py",
   "mimetype": "text/x-python",
   "name": "python",
   "nbconvert_exporter": "python",
   "pygments_lexer": "ipython3",
   "version": "3.10.8"
  }
 },
 "nbformat": 4,
 "nbformat_minor": 5
}
