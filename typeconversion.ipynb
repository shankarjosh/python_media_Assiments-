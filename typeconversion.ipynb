{
 "cells": [
  {
   "cell_type": "code",
   "execution_count": 1,
   "id": "0cd8c1a4-600f-4bbf-a10d-7ab6ed43900f",
   "metadata": {},
   "outputs": [
    {
     "data": {
      "text/plain": [
       "int"
      ]
     },
     "execution_count": 1,
     "metadata": {},
     "output_type": "execute_result"
    }
   ],
   "source": [
    "# convert int to float \n",
    "s=5\n",
    "type(s)\n",
    "\n",
    "\n",
    "\n",
    "\n"
   ]
  },
  {
   "cell_type": "code",
   "execution_count": 3,
   "id": "be205760-f5e5-4217-b1aa-e015e9253816",
   "metadata": {},
   "outputs": [
    {
     "data": {
      "text/plain": [
       "5.0"
      ]
     },
     "execution_count": 3,
     "metadata": {},
     "output_type": "execute_result"
    }
   ],
   "source": [
    "float(s)\n"
   ]
  },
  {
   "cell_type": "code",
   "execution_count": 4,
   "id": "5f2b1feb-c304-460e-b9b7-f0a3d97216dc",
   "metadata": {},
   "outputs": [
    {
     "data": {
      "text/plain": [
       "float"
      ]
     },
     "execution_count": 4,
     "metadata": {},
     "output_type": "execute_result"
    }
   ],
   "source": [
    "\n",
    "\n",
    "\n",
    "\n",
    "#convert float to int \n",
    "a=5.5\n",
    "type(a)"
   ]
  },
  {
   "cell_type": "code",
   "execution_count": 5,
   "id": "d5d01ffd-8f46-43d0-a9c3-b9322642ad93",
   "metadata": {},
   "outputs": [
    {
     "data": {
      "text/plain": [
       "5"
      ]
     },
     "execution_count": 5,
     "metadata": {},
     "output_type": "execute_result"
    }
   ],
   "source": [
    "int(a)\n"
   ]
  },
  {
   "cell_type": "code",
   "execution_count": 6,
   "id": "b79fca10-6746-48a8-ac0a-dd91795b2be4",
   "metadata": {},
   "outputs": [
    {
     "data": {
      "text/plain": [
       "int"
      ]
     },
     "execution_count": 6,
     "metadata": {},
     "output_type": "execute_result"
    }
   ],
   "source": [
    "#convert integer to string\n",
    "a=5\n",
    "type(a)\n"
   ]
  },
  {
   "cell_type": "code",
   "execution_count": 7,
   "id": "efd0aeda-bb73-4642-9469-e43671a09518",
   "metadata": {},
   "outputs": [
    {
     "data": {
      "text/plain": [
       "'5'"
      ]
     },
     "execution_count": 7,
     "metadata": {},
     "output_type": "execute_result"
    }
   ],
   "source": [
    "str(a)\n"
   ]
  },
  {
   "cell_type": "code",
   "execution_count": 8,
   "id": "9dac2a06-f062-46bc-8a6c-3b638b113179",
   "metadata": {},
   "outputs": [
    {
     "data": {
      "text/plain": [
       "list"
      ]
     },
     "execution_count": 8,
     "metadata": {},
     "output_type": "execute_result"
    }
   ],
   "source": [
    "#convert list to tuple \n",
    "L=[1,2,3,4,5]\n",
    "type(L)"
   ]
  },
  {
   "cell_type": "code",
   "execution_count": 9,
   "id": "75d41ad8-abc2-4ca7-8907-01d01a820fc9",
   "metadata": {},
   "outputs": [
    {
     "data": {
      "text/plain": [
       "(1, 2, 3, 4, 5)"
      ]
     },
     "execution_count": 9,
     "metadata": {},
     "output_type": "execute_result"
    }
   ],
   "source": [
    "tuple(L)"
   ]
  },
  {
   "cell_type": "code",
   "execution_count": 10,
   "id": "f9ed5f09-1463-4c89-af90-027e3755f5e3",
   "metadata": {},
   "outputs": [
    {
     "data": {
      "text/plain": [
       "tuple"
      ]
     },
     "execution_count": 10,
     "metadata": {},
     "output_type": "execute_result"
    }
   ],
   "source": [
    "\n",
    "# convert tuple to a list\n",
    "\n",
    "T=(1,2,3,4,5)\n",
    "type(T)\n",
    "\n"
   ]
  },
  {
   "cell_type": "code",
   "execution_count": 12,
   "id": "854ebc8e-a992-478a-ab6a-57526ae31a4a",
   "metadata": {},
   "outputs": [
    {
     "data": {
      "text/plain": [
       "[1, 2, 3, 4, 5]"
      ]
     },
     "execution_count": 12,
     "metadata": {},
     "output_type": "execute_result"
    }
   ],
   "source": [
    "list(T)"
   ]
  },
  {
   "cell_type": "code",
   "execution_count": 13,
   "id": "d50b3f6b-39e7-4e38-b1e6-c0f6311e7494",
   "metadata": {},
   "outputs": [
    {
     "data": {
      "text/plain": [
       "int"
      ]
     },
     "execution_count": 13,
     "metadata": {},
     "output_type": "execute_result"
    }
   ],
   "source": [
    "\n",
    "#convert a decimal number to binary\n",
    "decimal_number=10\n",
    "type(decimal_number)\n"
   ]
  },
  {
   "cell_type": "code",
   "execution_count": 14,
   "id": "b5823a82-39a5-4f8b-a864-f884f98d8919",
   "metadata": {},
   "outputs": [
    {
     "data": {
      "text/plain": [
       "'0b1010'"
      ]
     },
     "execution_count": 14,
     "metadata": {},
     "output_type": "execute_result"
    }
   ],
   "source": [
    "bin(10)"
   ]
  },
  {
   "cell_type": "code",
   "execution_count": 15,
   "id": "6e6dde99-9cb3-476d-9a03-be55a5962856",
   "metadata": {},
   "outputs": [
    {
     "name": "stdout",
     "output_type": "stream",
     "text": [
      "Non-zero Number: 42\n",
      "Boolean Value: True\n"
     ]
    }
   ],
   "source": [
    "\n",
    "#convert non zero number to boolean \n",
    "# Define a non-zero number\n",
    "non_zero_number = 42\n",
    "\n",
    "# Convert non-zero number to boolean\n",
    "boolean_value = bool(non_zero_number)\n",
    "\n",
    "# Print the result\n",
    "print(\"Non-zero Number:\", non_zero_number)\n",
    "print(\"Boolean Value:\", boolean_value)"
   ]
  },
  {
   "cell_type": "code",
   "execution_count": null,
   "id": "46a8fc69-c0cb-4463-aad0-b5996abb2fe0",
   "metadata": {},
   "outputs": [],
   "source": []
  }
 ],
 "metadata": {
  "kernelspec": {
   "display_name": "Python 3 (ipykernel)",
   "language": "python",
   "name": "python3"
  },
  "language_info": {
   "codemirror_mode": {
    "name": "ipython",
    "version": 3
   },
   "file_extension": ".py",
   "mimetype": "text/x-python",
   "name": "python",
   "nbconvert_exporter": "python",
   "pygments_lexer": "ipython3",
   "version": "3.10.8"
  }
 },
 "nbformat": 4,
 "nbformat_minor": 5
}
