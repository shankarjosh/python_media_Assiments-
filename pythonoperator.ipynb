{
 "cells": [
  {
   "cell_type": "code",
   "execution_count": 7,
   "id": "11ac2065-e196-4a8d-b80c-e8abcc509bfb",
   "metadata": {},
   "outputs": [
    {
     "name": "stdout",
     "output_type": "stream",
     "text": [
      "sum of two number: 8\n",
      "difference  of two number: 4\n",
      "product of two number: 12\n",
      "quotient of two number: 3.0\n"
     ]
    }
   ],
   "source": [
    "##, Calc$late the s$m, difference, prod$ct, and q$otient of two n$mbers.\n",
    "\n",
    "#calculate the sum \n",
    "num1=6\n",
    "num2=2\n",
    "a=num1+num2\n",
    "\n",
    "#difference\n",
    "b=num1-num2\n",
    "\n",
    "\n",
    "#product\n",
    "c=num1*num2\n",
    "\n",
    "#quotient\n",
    "\n",
    "d=num1/num2\n",
    "\n",
    "#result\n",
    "print(\"sum of two number:\",        a)\n",
    "print(\"difference  of two number:\",b)\n",
    "print(\"product of two number:\",    c)\n",
    "print(\"quotient of two number:\",   d)"
   ]
  },
  {
   "cell_type": "code",
   "execution_count": 10,
   "id": "b9921ca9-fcc1-48c1-9354-80dea8853267",
   "metadata": {},
   "outputs": [
    {
     "name": "stdout",
     "output_type": "stream",
     "text": [
      "After addition (+): 15\n",
      "After subtraction (-): 12\n",
      "After multiplication (*): 24\n",
      "After division (/): 6.0\n",
      "After floor division (//): 2.0\n",
      "After modulus (%): 0.0\n"
     ]
    }
   ],
   "source": [
    "\n",
    "# Perform @ario$s assignment operations on a @ariable.\n",
    "\n",
    "# Initialize a variable\n",
    "variable = 10\n",
    "\n",
    "# Perform various assignment operations\n",
    "variable += 5  # Add 5 to the variable\n",
    "print(\"After addition (+):\", variable)\n",
    "\n",
    "variable -= 3  # Subtract 3 from the variable\n",
    "print(\"After subtraction (-):\", variable)\n",
    "\n",
    "variable *= 2  # Multiply the variable by 2\n",
    "print(\"After multiplication (*):\", variable)\n",
    "\n",
    "variable /= 4  # Divide the variable by 4\n",
    "print(\"After division (/):\", variable)\n",
    "\n",
    "variable //= 3  # Floor divide the variable by 3\n",
    "print(\"After floor division (//):\", variable)\n",
    "\n",
    "variable %= 2  # Take the remainder of the variable divided by 2\n",
    "print(\"After modulus (%):\", variable)\n",
    "\n",
    "\n"
   ]
  },
  {
   "cell_type": "code",
   "execution_count": 22,
   "id": "0fcdee9f-3e4c-49ca-b07f-5aac84fd43c9",
   "metadata": {},
   "outputs": [
    {
     "name": "stdout",
     "output_type": "stream",
     "text": [
      "num1 is the smallest number\n"
     ]
    }
   ],
   "source": [
    "\n",
    "#Compare two n$mbers and print the res$lts.\n",
    "\n",
    "num1=5\n",
    "num2=7\n",
    "if num1 < num2:\n",
    "    print(\"num1 is the smallest number\")\n",
    "else:\n",
    "    print( \" num2 is the greatest number\")\n"
   ]
  },
  {
   "cell_type": "code",
   "execution_count": 30,
   "id": "ab93dd3e-9671-45b3-a3ff-899b4e9e4e37",
   "metadata": {},
   "outputs": [
    {
     "name": "stdout",
     "output_type": "stream",
     "text": [
      "10 is the smallest number\n"
     ]
    }
   ],
   "source": [
    "\n",
    "\n",
    "# check condition using logical operator\n",
    "\n",
    "num1=10\n",
    "num2=99\n",
    "if num1 < num2:\n",
    "    print(num1, \"is the smallest number\")\n",
    "elif num1 > num2:\n",
    "    print(num2, \"is the smallest number\")\n",
    "else:\n",
    "    print(\"Both numbers are equal\")"
   ]
  },
  {
   "cell_type": "code",
   "execution_count": 31,
   "id": "50c427d2-8e89-4106-9a3d-aa7584ddd351",
   "metadata": {},
   "outputs": [
    {
     "name": "stdout",
     "output_type": "stream",
     "text": [
      "x and y are different objects\n"
     ]
    }
   ],
   "source": [
    "# Check the identity of variables\n",
    "\n",
    "# Define two variables\n",
    "x = [1, 2, 3]\n",
    "y = [1, 2, 3]\n",
    "\n",
    "# Check the identity of variables\n",
    "if x is y:\n",
    "    print(\"x and y are the same object\")\n",
    "else:\n",
    "    print(\"x and y are different objects\")"
   ]
  },
  {
   "cell_type": "code",
   "execution_count": 35,
   "id": "d4fdf5d7-9e89-4081-b353-c6478ee543db",
   "metadata": {},
   "outputs": [
    {
     "name": "stdout",
     "output_type": "stream",
     "text": [
      "Bitwise AND result: 2\n",
      "Bitwise OR result: 14\n",
      "Bitwise XOR result: 12\n",
      "Bitwise NOT (Complement) for num1: -11\n",
      "Bitwise left shift result: 40\n",
      "Bitwise right shift result: 3\n"
     ]
    }
   ],
   "source": [
    "#Perform bitwise operations on any two integers.\n",
    "\n",
    "\n",
    "# Define two integers\n",
    "num1 = 10 \n",
    "num2 = 6   \n",
    "\n",
    "\n",
    "# Bitwise AND\n",
    "result_and = num1 & num2   \n",
    "print(\"Bitwise AND result:\", result_and)\n",
    "\n",
    "# Bitwise OR\n",
    "result_or = num1 | num2    \n",
    "print(\"Bitwise OR result:\", result_or)\n",
    "\n",
    "# Bitwise XOR\n",
    "result_xor = num1 ^ num2   \n",
    "print(\"Bitwise XOR result:\", result_xor)\n",
    "\n",
    "# Bitwise NOT (Complement) for num1\n",
    "result_not_num1 = ~num1    \n",
    "print(\"Bitwise NOT (Complement) for num1:\", result_not_num1)\n",
    "\n",
    "# Bitwise left shift\n",
    "result_left_shift = num1 << 2   \n",
    "print(\"Bitwise left shift result:\", result_left_shift)\n",
    "\n",
    "# Bitwise right shift\n",
    "result_right_shift = num2 >> 1 \n",
    "print(\"Bitwise right shift result:\", result_right_shift)"
   ]
  },
  {
   "cell_type": "code",
   "execution_count": 36,
   "id": "2a59bd9a-284a-4dfe-8cca-9b1f4a37f1b4",
   "metadata": {},
   "outputs": [
    {
     "name": "stdout",
     "output_type": "stream",
     "text": [
      "Original number: 10\n",
      "Number with changed sign: -10\n"
     ]
    }
   ],
   "source": [
    "#Use $nary operators to change the sign of a n$mber.\n",
    "\n",
    "def change_sign(number):\n",
    "    return ~number + 1\n",
    "\n",
    "# Example usage:\n",
    "number = 10\n",
    "new_number = change_sign(number)\n",
    "print(\"Original number:\", number)\n",
    "print(\"Number with changed sign:\", new_number)"
   ]
  },
  {
   "cell_type": "code",
   "execution_count": 37,
   "id": "643e6276-c99b-433a-9e20-d34b8dda57c1",
   "metadata": {},
   "outputs": [
    {
     "name": "stdout",
     "output_type": "stream",
     "text": [
      "The result is: Greater\n"
     ]
    }
   ],
   "source": [
    "# use ternary operator assign value on condition \n",
    "\n",
    "# Define two numbers\n",
    "num1 = 10\n",
    "num2 = 5\n",
    "\n",
    "# Assign the value of a variable based on the condition using the ternary operator\n",
    "result = \"Greater\" if num1 > num2 else \"Less or Equal\"\n",
    "\n",
    "# Print the result\n",
    "print(\"The result is:\", result)"
   ]
  },
  {
   "cell_type": "code",
   "execution_count": null,
   "id": "8ad9b7db-36d0-49a3-a9d5-88cf9355b72c",
   "metadata": {},
   "outputs": [],
   "source": []
  },
  {
   "cell_type": "code",
   "execution_count": null,
   "id": "e73a4dcf-aeaa-47c9-9ea2-a9fa97f068a9",
   "metadata": {},
   "outputs": [],
   "source": []
  }
 ],
 "metadata": {
  "kernelspec": {
   "display_name": "Python 3 (ipykernel)",
   "language": "python",
   "name": "python3"
  },
  "language_info": {
   "codemirror_mode": {
    "name": "ipython",
    "version": 3
   },
   "file_extension": ".py",
   "mimetype": "text/x-python",
   "name": "python",
   "nbconvert_exporter": "python",
   "pygments_lexer": "ipython3",
   "version": "3.10.8"
  }
 },
 "nbformat": 4,
 "nbformat_minor": 5
}
